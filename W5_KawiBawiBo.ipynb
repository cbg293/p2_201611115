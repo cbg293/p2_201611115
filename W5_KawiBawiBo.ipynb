{
 "cells": [
  {
   "cell_type": "code",
   "execution_count": 1,
   "metadata": {
    "collapsed": true
   },
   "outputs": [],
   "source": [
    "def GawiBawiBo():\n",
    "    A=raw_input('A input Gawi or Bawi or Bo: ')\n",
    "    B=raw_input('B input Gawi or Bawi or Bo: ')\n",
    "    if A=='Gawi':\n",
    "        if B=='Bo':\n",
    "            print \"A is win\"\n",
    "        elif B=='Bawi':\n",
    "            print \"B is win\"\n",
    "    if A=='Bawi':\n",
    "        if B=='Bo':\n",
    "            print \"B is win\"\n",
    "        elif B=='Gawi':\n",
    "            print \"A is win\"\n",
    "    if A=='Bo':\n",
    "        if B=='Gawi':\n",
    "            print \"B is win\"\n",
    "        elif B=='Bawi':\n",
    "            print \"A is win\"\n",
    "    if A==B:\n",
    "        print \"draw\"\n",
    "\n",
    "    \n",
    "\n"
   ]
  },
  {
   "cell_type": "code",
   "execution_count": 2,
   "metadata": {
    "collapsed": false
   },
   "outputs": [
    {
     "name": "stdout",
     "output_type": "stream",
     "text": [
      "A input Gawi or Bawi or Bo: Gawi\n",
      "B input Gawi or Bawi or Bo: Bawi\n",
      "B is win\n"
     ]
    }
   ],
   "source": [
    "GawiBawiBo()"
   ]
  }
 ],
 "metadata": {
  "kernelspec": {
   "display_name": "Python 2",
   "language": "python",
   "name": "python2"
  },
  "language_info": {
   "codemirror_mode": {
    "name": "ipython",
    "version": 2
   },
   "file_extension": ".py",
   "mimetype": "text/x-python",
   "name": "python",
   "nbconvert_exporter": "python",
   "pygments_lexer": "ipython2",
   "version": "2.7.11"
  }
 },
 "nbformat": 4,
 "nbformat_minor": 0
}
