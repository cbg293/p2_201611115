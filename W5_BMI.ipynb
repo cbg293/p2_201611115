{
 "cells": [
  {
   "cell_type": "code",
   "execution_count": 13,
   "metadata": {
    "collapsed": true
   },
   "outputs": [],
   "source": [
    "def yourBMI():\n",
    "    weight=raw_input('write your weight(kg): ')\n",
    "    height=raw_input('write your height(m): ')\n",
    "    BMI=float(weight)/(float(height)*float(height))\n",
    "    if BMI>=18.5 and BMI<25:\n",
    "        res=\"normal weight\"\n",
    "    elif BMI>=25 and BMI<30:\n",
    "        res=\"overweight\"\n",
    "    elif BMI>=30 and BMI<40:\n",
    "        res=\"obesity\"\n",
    "    else:\n",
    "        res=\"over obesity\"\n",
    "    return res"
   ]
  },
  {
   "cell_type": "code",
   "execution_count": 14,
   "metadata": {
    "collapsed": false
   },
   "outputs": [
    {
     "name": "stdout",
     "output_type": "stream",
     "text": [
      "write your weight(kg): 93\n",
      "write your height(m): 1.83\n"
     ]
    },
    {
     "data": {
      "text/plain": [
       "'overweight'"
      ]
     },
     "execution_count": 14,
     "metadata": {},
     "output_type": "execute_result"
    }
   ],
   "source": [
    "yourBMI()"
   ]
  }
 ],
 "metadata": {
  "kernelspec": {
   "display_name": "Python 2",
   "language": "python",
   "name": "python2"
  },
  "language_info": {
   "codemirror_mode": {
    "name": "ipython",
    "version": 2
   },
   "file_extension": ".py",
   "mimetype": "text/x-python",
   "name": "python",
   "nbconvert_exporter": "python",
   "pygments_lexer": "ipython2",
   "version": "2.7.11"
  }
 },
 "nbformat": 4,
 "nbformat_minor": 0
}
