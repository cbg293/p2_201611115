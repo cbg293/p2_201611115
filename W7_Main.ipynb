{
 "cells": [
  {
   "cell_type": "code",
   "execution_count": 1,
   "metadata": {
    "collapsed": false
   },
   "outputs": [
    {
     "name": "stdout",
     "output_type": "stream",
     "text": [
      "[(0.00,0.00), (100.00,0.00), (100.00,-100.00), (0.00,-100.00)]\n"
     ]
    }
   ],
   "source": [
    "def drawSquareAtSave(size, pos):\n",
    "    x=list()\n",
    "    t1.penup()\n",
    "    t1.setpos(pos)\n",
    "    t1.pendown()\n",
    "    track=list()\n",
    "    for i in range(0,4):\n",
    "        track.append(t1.pos())\n",
    "        t1.forward(size)\n",
    "        t1.right(90)\n",
    "    return track\n",
    "\n",
    "def drawSquareFrom(tracks):\n",
    "    tracks=list()\n",
    "    tracks.append((-50,-50))\n",
    "    tracks.append((50,-50))\n",
    "    tracks.append((50,50))\n",
    "    tracks.append((-50,50))\n",
    "    for i in range(0,4):\n",
    "        t1.goto(tracks[i])\n",
    "\n",
    "\n",
    "def lab7():\n",
    "    global wn\n",
    "    global t1\n",
    "    import turtle\n",
    "    wn=turtle.Screen()\n",
    "    t1=turtle.Turtle()\n",
    "    mytrack=drawSquareAtSave(100,(0,0))\n",
    "    print mytrack\n",
    "    drawSquareFrom(100)\n",
    "    \n",
    "def main():\n",
    "    lab7()\n",
    "    \n",
    "if __name__==\"__main__\":\n",
    "    main()"
   ]
  },
  {
   "cell_type": "code",
   "execution_count": null,
   "metadata": {
    "collapsed": true
   },
   "outputs": [],
   "source": []
  }
 ],
 "metadata": {
  "kernelspec": {
   "display_name": "Python 2",
   "language": "python",
   "name": "python2"
  },
  "language_info": {
   "codemirror_mode": {
    "name": "ipython",
    "version": 2
   },
   "file_extension": ".py",
   "mimetype": "text/x-python",
   "name": "python",
   "nbconvert_exporter": "python",
   "pygments_lexer": "ipython2",
   "version": "2.7.11"
  }
 },
 "nbformat": 4,
 "nbformat_minor": 0
}
