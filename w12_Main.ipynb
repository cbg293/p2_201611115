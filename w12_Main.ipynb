{
 "cells": [
  {
   "cell_type": "code",
   "execution_count": null,
   "metadata": {
    "collapsed": true
   },
   "outputs": [],
   "source": [
    "import os\n",
    "mydir=os.getcwd()\n",
    "def TryExcept():\n",
    "    filename='python.txt'\n",
    "    myfilename=os.path.join(mydir,filename)\n",
    "    myfile=open(myfilename,'r')\n",
    "    try:\n",
    "        myfile=open(myfilename,'r')\n",
    "        contents=myfile.readlines()\n",
    "        for i in range(0,len(contents)):\n",
    "            if contents[i].find('Python')>=0:\n",
    "                print contents[i]\n",
    "            myfile.close()\n",
    "    except IOError as e:\n",
    "        print(e)\n",
    "\n",
    "def Makefile():\n",
    "    myfile2=open('output.txt','w')\n",
    "    line1='first line\\n'\n",
    "    myfile2.write(line1)\n",
    "    line2='second line\\n'\n",
    "    myfile2.write(line2)\n",
    "    line3='third line'\n",
    "    myfile2.write(line3)\n",
    "    myfile2.close()\n",
    "    file2=open('output.txt','r')\n",
    "    contents2=file2.readlines()\n",
    "    for i in range(0,len(contents2)):\n",
    "        if contents2[i].find('line')>=0:\n",
    "            res=contents2[i].split()\n",
    "        for n in range(0,len(res)):\n",
    "            if res[n].find('line')>=0:\n",
    "                print(res[n].upper())\n",
    "    file2.close()\n",
    "\n",
    "def main():\n",
    "    TryExcept()\n",
    "    Makefile()\n",
    "\n",
    "if __name__==\"__main__\":\n",
    "    main()"
   ]
  }
 ],
 "metadata": {
  "kernelspec": {
   "display_name": "Python 2",
   "language": "python",
   "name": "python2"
  },
  "language_info": {
   "codemirror_mode": {
    "name": "ipython",
    "version": 2
   },
   "file_extension": ".py",
   "mimetype": "text/x-python",
   "name": "python",
   "nbconvert_exporter": "python",
   "pygments_lexer": "ipython2",
   "version": "2.7.11"
  }
 },
 "nbformat": 4,
 "nbformat_minor": 0
}
