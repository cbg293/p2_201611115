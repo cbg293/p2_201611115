{
 "cells": [
  {
   "cell_type": "code",
   "execution_count": null,
   "metadata": {
    "collapsed": true
   },
   "outputs": [],
   "source": [
    "def file1():\n",
    "    import time\n",
    "    myfile=open('output.txt','w') \n",
    "    line1='first line\\n' \n",
    "    myfile.write(line1) \n",
    "    line2='second line\\n' \n",
    "    myfile.write(line2) \n",
    "    line3=\"third\" \n",
    "    myfile.write(line3) \n",
    "    myfile.close()\n",
    "\n",
    "    fin=open('output.txt','r')\n",
    "    fout=open('outputUpper.txt','w')\n",
    "    for line in fin:\n",
    "        words=line.split()\n",
    "        if line.find('line')>=0:\n",
    "            msg='[cbk edited {0}]'.format(time.strftime('%Y-%m-%d %H:%M:%S'))\n",
    "            fout.write(msg)\n",
    "        for word in words:\n",
    "            if word=='line':\n",
    "                word=word.upper()\n",
    "            fout.write(word)\n",
    "            fout.write(\" \")\n",
    "        fout.write('\\n')\n",
    "    fin.close()\n",
    "    fout.close()\n",
    "    \n",
    "def file2():\n",
    "    data=[1,2,3,4,5,6,7,8,9,10]\n",
    "    fout=open('outputNumber.txt','w')\n",
    "    for i in data:\n",
    "        str='{0}\\t'.format(i)\n",
    "        fout.write(str)\n",
    "        if not i%2:\n",
    "            fout.write('\\n')\n",
    "    fout.close()\n",
    "\n",
    "def lab2():\n",
    "    file1\n",
    "    file2\n",
    "\n",
    "def main():\n",
    "    lab2\n",
    "\n",
    "if __name__==\"__main__\":\n",
    "    main() \n"
   ]
  }
 ],
 "metadata": {
  "kernelspec": {
   "display_name": "Python 2",
   "language": "python",
   "name": "python2"
  },
  "language_info": {
   "codemirror_mode": {
    "name": "ipython",
    "version": 2
   },
   "file_extension": ".py",
   "mimetype": "text/x-python",
   "name": "python",
   "nbconvert_exporter": "python",
   "pygments_lexer": "ipython2",
   "version": "2.7.11"
  }
 },
 "nbformat": 4,
 "nbformat_minor": 0
}
