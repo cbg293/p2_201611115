{
 "cells": [
  {
   "cell_type": "code",
   "execution_count": null,
   "metadata": {
    "collapsed": false
   },
   "outputs": [],
   "source": []
  },
  {
   "cell_type": "code",
   "execution_count": 53,
   "metadata": {
    "collapsed": false
   },
   "outputs": [
    {
     "name": "stdout",
     "output_type": "stream",
     "text": [
      "enter your marks (0~100):165\n"
     ]
    }
   ],
   "source": [
    "inputMarks = raw_input('enter your marks (0~100):')\n",
    "Marks = float(inputMarks)\n",
    "\n",
    "def makeGrade() :\n",
    "    if Marks==\"0<Marks<=60\":\n",
    "        grade=\"F\"\n",
    "        return grade\n",
    "    if Marks==\"60<Marks<=70\":\n",
    "        grade=\"D\"\n",
    "        return grade\n",
    "    if Marks==\"70<Marks<=80\":\n",
    "        grade=\"C\"\n",
    "        return grade\n",
    "    if Marks==\"80<Marks<=90\":\n",
    "        grade=\"B\"\n",
    "        return grade\n",
    "    if Marks==\"90<Marks<=100\":\n",
    "        grade=\"A\"\n",
    "        return grade\n",
    "    else:\n",
    "        print \"Marks is disable\""
   ]
  },
  {
   "cell_type": "code",
   "execution_count": 54,
   "metadata": {
    "collapsed": false
   },
   "outputs": [
    {
     "name": "stdout",
     "output_type": "stream",
     "text": [
      "Marks is disable\n"
     ]
    }
   ],
   "source": [
    "makeGrade()"
   ]
  }
 ],
 "metadata": {
  "kernelspec": {
   "display_name": "Python 2",
   "language": "python",
   "name": "python2"
  },
  "language_info": {
   "codemirror_mode": {
    "name": "ipython",
    "version": 2
   },
   "file_extension": ".py",
   "mimetype": "text/x-python",
   "name": "python",
   "nbconvert_exporter": "python",
   "pygments_lexer": "ipython2",
   "version": "2.7.10"
  }
 },
 "nbformat": 4,
 "nbformat_minor": 0
}
