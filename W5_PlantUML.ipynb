{
 "cells": [
  {
   "cell_type": "code",
   "execution_count": 1,
   "metadata": {
    "collapsed": true
   },
   "outputs": [],
   "source": [
    "import os\n",
    "mywd=%pwd\n",
    "myplantdir=os.path.join(mywd,'lib')\n",
    "mydot=\"C:\\\\Program Files (x86)\\\\Graphviz 2.28\\\\bin\\\\dot.exe\""
   ]
  },
  {
   "cell_type": "code",
   "execution_count": 2,
   "metadata": {
    "collapsed": false
   },
   "outputs": [
    {
     "name": "stdout",
     "output_type": "stream",
     "text": [
      "C:\\Users\\Administrator\\Documents\\Programing\\lib\n"
     ]
    },
    {
     "data": {
      "text/plain": [
       "['.\\\\plantuml.jar']"
      ]
     },
     "execution_count": 2,
     "metadata": {},
     "output_type": "execute_result"
    }
   ],
   "source": [
    "import glob\n",
    "%cd {myplantdir}\n",
    "glob.glob(r'./*.jar')"
   ]
  },
  {
   "cell_type": "code",
   "execution_count": 3,
   "metadata": {
    "collapsed": false
   },
   "outputs": [
    {
     "name": "stdout",
     "output_type": "stream",
     "text": [
      "C:\\Program Files (x86)\\Graphviz 2.28\\bin\\dot.exe\n",
      "The environment variable GRAPHVIZ_DOT has been set to C:\\Program Files (x86)\\Graphviz 2.28\\bin\\dot.exe\n",
      "Dot executable is C:\\Program Files (x86)\\Graphviz 2.28\\bin\\dot.exe\n",
      "Dot version: dot - graphviz version 2.28.0 (20110507.0327)\n",
      "\n",
      "Installation seems OK. File generation OK\n"
     ]
    }
   ],
   "source": [
    "import os\n",
    "os.environ['GRAPHVIZ_DOT']=mydot\n",
    "print os.environ['GRAPHVIZ_DOT']\n",
    "!java -jar {myplantdir}/plantuml.jar -testdot"
   ]
  },
  {
   "cell_type": "code",
   "execution_count": 6,
   "metadata": {
    "collapsed": false
   },
   "outputs": [
    {
     "name": "stdout",
     "output_type": "stream",
     "text": [
      "Installed plantuml_magics.py. To use it, type:\n",
      "  %load_ext plantuml_magics\n"
     ]
    }
   ],
   "source": [
    "%install_ext https://raw.githubusercontent.com/sberke/ipython-plantuml/master/plantuml_magics.py"
   ]
  },
  {
   "cell_type": "code",
   "execution_count": 7,
   "metadata": {
    "collapsed": false
   },
   "outputs": [
    {
     "name": "stdout",
     "output_type": "stream",
     "text": [
      "The plantuml_magics extension is already loaded. To reload it, use:\n",
      "  %reload_ext plantuml_magics\n"
     ]
    }
   ],
   "source": [
    "%load_ext plantuml_magics"
   ]
  },
  {
   "cell_type": "code",
   "execution_count": 8,
   "metadata": {
    "collapsed": false
   },
   "outputs": [
    {
     "data": {
      "image/svg+xml": [
       "<svg height=\"582px\" style=\"width:212px;height:582px;\" version=\"1.1\" viewBox=\"0 0 212 582\" width=\"212px\" xmlns=\"http://www.w3.org/2000/svg\" xmlns:xlink=\"http://www.w3.org/1999/xlink\"><defs><filter height=\"300%\" id=\"f1\" width=\"300%\" x=\"-1\" y=\"-1\"><feGaussianBlur result=\"blurOut\" stdDeviation=\"2.0\"/><feColorMatrix in=\"blurOut\" result=\"blurOut2\" type=\"matrix\" values=\"0 0 0 0 0 0 0 0 0 0 0 0 0 0 0 0 0 0 .4 0\"/><feOffset dx=\"4.0\" dy=\"4.0\" in=\"blurOut2\" result=\"blurOut3\"/><feBlend in=\"SourceGraphic\" in2=\"blurOut3\" mode=\"normal\"/></filter></defs><g><ellipse cx=\"111.5\" cy=\"20\" fill=\"#000000\" filter=\"url(#f1)\" rx=\"10\" ry=\"10\" style=\"stroke: none; stroke-width: 1.0;\"/><rect fill=\"#FEFECE\" filter=\"url(#f1)\" height=\"36.4824\" rx=\"12.5\" ry=\"12.5\" style=\"stroke: #A80036; stroke-width: 1.5;\" width=\"127\" x=\"48\" y=\"50\"/><text fill=\"#000000\" font-family=\"sans-serif\" font-size=\"12\" lengthAdjust=\"spacingAndGlyphs\" textLength=\"107\" x=\"58\" y=\"73.8457\">set how many turns</text><rect fill=\"#FEFECE\" filter=\"url(#f1)\" height=\"36.4824\" rx=\"12.5\" ry=\"12.5\" style=\"stroke: #A80036; stroke-width: 1.5;\" width=\"178\" x=\"22.5\" y=\"106.4824\"/><text fill=\"#000000\" font-family=\"sans-serif\" font-size=\"12\" lengthAdjust=\"spacingAndGlyphs\" textLength=\"158\" x=\"32.5\" y=\"130.3281\">set how much to grow bigger</text><rect fill=\"#FEFECE\" filter=\"url(#f1)\" height=\"36.4824\" rx=\"12.5\" ry=\"12.5\" style=\"stroke: #A80036; stroke-width: 1.5;\" width=\"71\" x=\"76\" y=\"162.9648\"/><text fill=\"#000000\" font-family=\"sans-serif\" font-size=\"12\" lengthAdjust=\"spacingAndGlyphs\" textLength=\"51\" x=\"86\" y=\"186.8105\">set angle</text><rect fill=\"#FEFECE\" filter=\"url(#f1)\" height=\"36.4824\" rx=\"12.5\" ry=\"12.5\" style=\"stroke: #A80036; stroke-width: 1.5;\" width=\"89\" x=\"67\" y=\"219.4473\"/><text fill=\"#000000\" font-family=\"sans-serif\" font-size=\"12\" lengthAdjust=\"spacingAndGlyphs\" textLength=\"69\" x=\"77\" y=\"243.293\">set start size</text><polygon fill=\"#FEFECE\" filter=\"url(#f1)\" points=\"74.5,319.9297,148.5,319.9297,160.5,331.9297,148.5,343.9297,74.5,343.9297,62.5,331.9297,74.5,319.9297\" style=\"stroke: #A80036; stroke-width: 1.5;\"/><text fill=\"#000000\" font-family=\"sans-serif\" font-size=\"11\" lengthAdjust=\"spacingAndGlyphs\" textLength=\"74\" x=\"74.5\" y=\"337.0671\">i is divided by 2</text><rect fill=\"#FEFECE\" filter=\"url(#f1)\" height=\"36.4824\" rx=\"12.5\" ry=\"12.5\" style=\"stroke: #A80036; stroke-width: 1.5;\" width=\"85\" x=\"10\" y=\"353.9297\"/><text fill=\"#000000\" font-family=\"sans-serif\" font-size=\"12\" lengthAdjust=\"spacingAndGlyphs\" textLength=\"65\" x=\"20\" y=\"377.7754\">grow bigger</text><polygon fill=\"#FEFECE\" filter=\"url(#f1)\" points=\"111.5,396.4121,123.5,408.4121,111.5,420.4121,99.5,408.4121,111.5,396.4121\" style=\"stroke: #A80036; stroke-width: 1.5;\"/><rect fill=\"#FEFECE\" filter=\"url(#f1)\" height=\"36.4824\" rx=\"12.5\" ry=\"12.5\" style=\"stroke: #A80036; stroke-width: 1.5;\" width=\"47\" x=\"88\" y=\"455.4121\"/><text fill=\"#000000\" font-family=\"sans-serif\" font-size=\"12\" lengthAdjust=\"spacingAndGlyphs\" textLength=\"27\" x=\"98\" y=\"479.2578\">draw</text><polygon fill=\"#FEFECE\" filter=\"url(#f1)\" points=\"111.5,275.9297,123.5,287.9297,111.5,299.9297,99.5,287.9297,111.5,275.9297\" style=\"stroke: #A80036; stroke-width: 1.5;\"/><polygon fill=\"#FEFECE\" filter=\"url(#f1)\" points=\"99,511.8945,124,511.8945,136,523.8945,124,535.8945,99,535.8945,87,523.8945,99,511.8945\" style=\"stroke: #A80036; stroke-width: 1.5;\"/><text fill=\"#000000\" font-family=\"sans-serif\" font-size=\"11\" lengthAdjust=\"spacingAndGlyphs\" textLength=\"25\" x=\"99\" y=\"529.032\">turns</text><ellipse cx=\"111.5\" cy=\"565.8945\" fill=\"none\" filter=\"url(#f1)\" rx=\"10\" ry=\"10\" style=\"stroke: #000000; stroke-width: 1.0;\"/><ellipse cx=\"112\" cy=\"566.3945\" fill=\"#000000\" filter=\"url(#f1)\" rx=\"6\" ry=\"6\" style=\"stroke: none; stroke-width: 1.0;\"/><line style=\"stroke: #A80036; stroke-width: 1.5;\" x1=\"111.5\" x2=\"111.5\" y1=\"30\" y2=\"50\"/><polygon fill=\"#A80036\" points=\"107.5,40,111.5,50,115.5,40,111.5,44\" style=\"stroke: #A80036; stroke-width: 1.0;\"/><line style=\"stroke: #A80036; stroke-width: 1.5;\" x1=\"111.5\" x2=\"111.5\" y1=\"86.4824\" y2=\"106.4824\"/><polygon fill=\"#A80036\" points=\"107.5,96.4824,111.5,106.4824,115.5,96.4824,111.5,100.4824\" style=\"stroke: #A80036; stroke-width: 1.0;\"/><line style=\"stroke: #A80036; stroke-width: 1.5;\" x1=\"111.5\" x2=\"111.5\" y1=\"142.9648\" y2=\"162.9648\"/><polygon fill=\"#A80036\" points=\"107.5,152.9648,111.5,162.9648,115.5,152.9648,111.5,156.9648\" style=\"stroke: #A80036; stroke-width: 1.0;\"/><line style=\"stroke: #A80036; stroke-width: 1.5;\" x1=\"111.5\" x2=\"111.5\" y1=\"199.4473\" y2=\"219.4473\"/><polygon fill=\"#A80036\" points=\"107.5,209.4473,111.5,219.4473,115.5,209.4473,111.5,213.4473\" style=\"stroke: #A80036; stroke-width: 1.0;\"/><line style=\"stroke: #A80036; stroke-width: 1.5;\" x1=\"62.5\" x2=\"52.5\" y1=\"331.9297\" y2=\"331.9297\"/><line style=\"stroke: #A80036; stroke-width: 1.5;\" x1=\"52.5\" x2=\"52.5\" y1=\"331.9297\" y2=\"353.9297\"/><polygon fill=\"#A80036\" points=\"48.5,343.9297,52.5,353.9297,56.5,343.9297,52.5,347.9297\" style=\"stroke: #A80036; stroke-width: 1.0;\"/><line style=\"stroke: #A80036; stroke-width: 1.5;\" x1=\"160.5\" x2=\"170.5\" y1=\"331.9297\" y2=\"331.9297\"/><polygon fill=\"#A80036\" points=\"166.5,360.1709,170.5,370.1709,174.5,360.1709,170.5,364.1709\" style=\"stroke: #A80036; stroke-width: 1.5;\"/><line style=\"stroke: #A80036; stroke-width: 1.5;\" x1=\"170.5\" x2=\"170.5\" y1=\"331.9297\" y2=\"408.4121\"/><line style=\"stroke: #A80036; stroke-width: 1.5;\" x1=\"170.5\" x2=\"123.5\" y1=\"408.4121\" y2=\"408.4121\"/><polygon fill=\"#A80036\" points=\"133.5,404.4121,123.5,408.4121,133.5,412.4121,129.5,408.4121\" style=\"stroke: #A80036; stroke-width: 1.0;\"/><line style=\"stroke: #A80036; stroke-width: 1.5;\" x1=\"52.5\" x2=\"52.5\" y1=\"390.4121\" y2=\"408.4121\"/><line style=\"stroke: #A80036; stroke-width: 1.5;\" x1=\"52.5\" x2=\"99.5\" y1=\"408.4121\" y2=\"408.4121\"/><polygon fill=\"#A80036\" points=\"89.5,404.4121,99.5,408.4121,89.5,412.4121,93.5,408.4121\" style=\"stroke: #A80036; stroke-width: 1.0;\"/><line style=\"stroke: #A80036; stroke-width: 1.5;\" x1=\"111.5\" x2=\"111.5\" y1=\"420.4121\" y2=\"455.4121\"/><polygon fill=\"#A80036\" points=\"107.5,445.4121,111.5,455.4121,115.5,445.4121,111.5,449.4121\" style=\"stroke: #A80036; stroke-width: 1.0;\"/><line style=\"stroke: #A80036; stroke-width: 1.5;\" x1=\"111.5\" x2=\"111.5\" y1=\"299.9297\" y2=\"319.9297\"/><polygon fill=\"#A80036\" points=\"107.5,309.9297,111.5,319.9297,115.5,309.9297,111.5,313.9297\" style=\"stroke: #A80036; stroke-width: 1.0;\"/><line style=\"stroke: #A80036; stroke-width: 1.5;\" x1=\"136\" x2=\"207.5\" y1=\"523.8945\" y2=\"523.8945\"/><polygon fill=\"#A80036\" points=\"203.5,439.9121,207.5,429.9121,211.5,439.9121,207.5,435.9121\" style=\"stroke: #A80036; stroke-width: 1.5;\"/><line style=\"stroke: #A80036; stroke-width: 1.5;\" x1=\"207.5\" x2=\"207.5\" y1=\"287.9297\" y2=\"523.8945\"/><line style=\"stroke: #A80036; stroke-width: 1.5;\" x1=\"207.5\" x2=\"123.5\" y1=\"287.9297\" y2=\"287.9297\"/><polygon fill=\"#A80036\" points=\"133.5,283.9297,123.5,287.9297,133.5,291.9297,129.5,287.9297\" style=\"stroke: #A80036; stroke-width: 1.0;\"/><line style=\"stroke: #A80036; stroke-width: 1.5;\" x1=\"111.5\" x2=\"111.5\" y1=\"491.8945\" y2=\"511.8945\"/><polygon fill=\"#A80036\" points=\"107.5,501.8945,111.5,511.8945,115.5,501.8945,111.5,505.8945\" style=\"stroke: #A80036; stroke-width: 1.0;\"/><line style=\"stroke: #A80036; stroke-width: 1.5;\" x1=\"111.5\" x2=\"111.5\" y1=\"255.9297\" y2=\"275.9297\"/><polygon fill=\"#A80036\" points=\"107.5,265.9297,111.5,275.9297,115.5,265.9297,111.5,269.9297\" style=\"stroke: #A80036; stroke-width: 1.0;\"/><line style=\"stroke: #A80036; stroke-width: 1.5;\" x1=\"111.5\" x2=\"111.5\" y1=\"535.8945\" y2=\"555.8945\"/><polygon fill=\"#A80036\" points=\"107.5,545.8945,111.5,555.8945,115.5,545.8945,111.5,549.8945\" style=\"stroke: #A80036; stroke-width: 1.0;\"/></g></svg>"
      ],
      "text/plain": [
       "<IPython.core.display.SVG object>"
      ]
     },
     "execution_count": 8,
     "metadata": {},
     "output_type": "execute_result"
    }
   ],
   "source": [
    "%%plantuml\n",
    "@startuml\n",
    "start\n",
    ":set how many turns;\n",
    ":set how much to grow bigger;\n",
    ":set angle;\n",
    ":set start size;\n",
    "repeat\n",
    "if (i is divided by 2) then\n",
    "    :grow bigger;\n",
    "endif\n",
    ":draw;\n",
    "repeat while(turns)\n",
    "stop\n",
    "@enduml"
   ]
  }
 ],
 "metadata": {
  "kernelspec": {
   "display_name": "Python 2",
   "language": "python",
   "name": "python2"
  },
  "language_info": {
   "codemirror_mode": {
    "name": "ipython",
    "version": 2
   },
   "file_extension": ".py",
   "mimetype": "text/x-python",
   "name": "python",
   "nbconvert_exporter": "python",
   "pygments_lexer": "ipython2",
   "version": "2.7.11"
  }
 },
 "nbformat": 4,
 "nbformat_minor": 0
}
